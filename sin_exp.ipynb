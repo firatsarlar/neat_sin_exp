{
 "cells": [
  {
   "cell_type": "code",
   "execution_count": null,
   "metadata": {},
   "outputs": [],
   "source": [
    "!pip install neat-python"
   ]
  },
  {
   "cell_type": "code",
   "execution_count": 1,
   "metadata": {},
   "outputs": [],
   "source": [
    "#\n",
    "# This file provides source code of XOR experiment using on NEAT-Python library\n",
    "#\n",
    "import os,signal,sys\n",
    "import shutil\n",
    "\n",
    "import neat\n",
    "\n",
    "import math\n",
    "import numpy as np\n",
    "\n",
    "\n",
    "\n",
    "import multiprocessing\n",
    "from CheckpointerBest import CheckpointerBest"
   ]
  },
  {
   "cell_type": "code",
   "execution_count": 2,
   "metadata": {},
   "outputs": [],
   "source": [
    "# The current working directory\n",
    "local_dir = \"./\"\n",
    "out_dir = os.path.join(local_dir, 'checkpoints')\n",
    "os.makedirs(out_dir, exist_ok=True)"
   ]
  },
  {
   "cell_type": "code",
   "execution_count": 82,
   "metadata": {},
   "outputs": [],
   "source": [
    "def eval_fitness(net):\n",
    "  \n",
    "    global gens\n",
    "    \n",
    "    error_sum = 0.0\n",
    "    outputs = []\n",
    "    accs = []\n",
    "\n",
    "    def _imp():\n",
    "\n",
    "        fitness = 0\n",
    "        for xi, xo in zip(xx, yy):        \n",
    "            output = net.activate([xi]) \n",
    "            xacc =  1-abs(xo-output)\n",
    "            fitness += xacc\n",
    "\n",
    "        fitness = np.mean((fitness/len(xx)))\n",
    "\n",
    "        return fitness    \n",
    "    \n",
    "    \n",
    "    fitness = (_imp())*100\n",
    "    fitness =np.round(fitness,decimals=4)\n",
    "    fitness=max(fitness,-1000.)\n",
    "    \n",
    "    \n",
    "    return fitness\n"
   ]
  },
  {
   "cell_type": "code",
   "execution_count": 83,
   "metadata": {},
   "outputs": [],
   "source": [
    "    \n",
    "def eval_genomes_mp(genomes, config):\n",
    "\n",
    "\n",
    "    net = neat.nn.FeedForwardNetwork.create(genomes, config)\n",
    "    genomes.fitness = eval_fitness(net)\n",
    "    return genomes.fitness\n",
    "\n",
    "def eval_genomes_single(genomes, config):\n",
    "    #single process\n",
    "    for genome_id, genome in genomes:\n",
    "        #net = RecurrentNet.create(genome, config,1)\n",
    "        net = neat.nn.FeedForwardNetwork.create(genome, config)\n",
    "        genome.fitness = eval_fitness(net)\n",
    "        \n",
    "\n",
    "def createPoolAndConfig(config_file,checkpoint):\n",
    "    config = neat.Config(neat.DefaultGenome, neat.DefaultReproduction,\n",
    "                         neat.DefaultSpeciesSet, neat.DefaultStagnation,\n",
    "                         config_file)\n",
    "    \n",
    "\n",
    "    \n",
    "    # Create the population, which is the top-level object for a NEAT run.\n",
    "    \n",
    "    if checkpoint is not None:\n",
    "        p = neat.Checkpointer.restore_checkpoint(checkpoint)\n",
    "    else:\n",
    "        p = neat.Population(config)\n",
    "    \n",
    "    return p, config\n",
    "\n",
    "    \n",
    "def run_experiment(config_file, checkpoint = None, mp = False):\n",
    "    \n",
    "    \n",
    "    best_genome = None\n",
    "    \n",
    "    p,config=createPoolAndConfig(config_file,checkpoint)    \n",
    "    \n",
    "    # Add a stdout reporter to show progress in the terminal.\n",
    "    p.add_reporter(neat.StdOutReporter(False))\n",
    "    stats = neat.StatisticsReporter()\n",
    "    p.add_reporter(stats)\n",
    "\n",
    "    p.add_reporter(CheckpointerBest( filename_prefix='checkpoints/sin_exp-checkpoint-'))\n",
    "    pe = None\n",
    "    \n",
    "    \n",
    "    #this part required to handle keyboard intterrupt correctly, and return population and config to evaluate test set.\n",
    "    try:\n",
    "       \n",
    "        if mp:\n",
    "            original_sigint_handler = signal.signal(signal.SIGINT, signal.SIG_IGN)\n",
    "\n",
    "            pe = neat.ParallelEvaluator(multiprocessing.cpu_count(), eval_genomes_mp)\n",
    "            \n",
    "            signal.signal(signal.SIGINT, original_sigint_handler)\n",
    "\n",
    "            \"\"\"set_trace()\n",
    "            return\"\"\"\n",
    "            best_genome = p.run(pe.evaluate, 113551)    \n",
    "        else:\n",
    "\n",
    "            best_genome = p.run(eval_genomes_single, 1113551)\n",
    "            #print('\\nBest genome:\\n{!s}'.format(best_genome))\n",
    "    except:\n",
    "        print(\"Stopping the Jobs. \", sys.exc_info())\n",
    "        if mp:\n",
    "            \n",
    "            pe.pool.terminate()\n",
    "            pe.pool.join()\n",
    "            print(\"pool ok\")\n",
    "            \n",
    "        return p,config        \n",
    "\n",
    "    return p,config\n",
    "    \n",
    "\n"
   ]
  },
  {
   "cell_type": "code",
   "execution_count": 84,
   "metadata": {},
   "outputs": [],
   "source": [
    "def evaluate_best(p,best_genome,config):\n",
    "\n",
    "    net = neat.nn.FeedForwardNetwork.create(best_genome, config)\n",
    "    accs = []\n",
    "    for xi, xo in zip(xx, yy):\n",
    "        output = net.activate([xi])\n",
    "        xacc =  1-(abs(xo-output))\n",
    "        accs.append(xacc)\n",
    "\n",
    "    print(\"\\nmean acc {}\\n\".format(\n",
    "            np.round(np.array(accs).mean()* 100.,decimals=2) \n",
    "    ))\n",
    "    "
   ]
  },
  {
   "cell_type": "code",
   "execution_count": 92,
   "metadata": {},
   "outputs": [
    {
     "name": "stdout",
     "output_type": "stream",
     "text": [
      "360 samples:  45\n"
     ]
    }
   ],
   "source": [
    "#create full sin list 1 step degrees\n",
    "degrees2radians = np.radians(np.arange(0,360,1))\n",
    "\n",
    "#samples\n",
    "sample_count = 45\n",
    "\n",
    "xx = np.random.choice(degrees2radians,sample_count,replace=False)\n",
    "yy = np.sin(xx)\n",
    "\n",
    "print(len(degrees2radians), \"samples: \", sample_count)"
   ]
  },
  {
   "cell_type": "code",
   "execution_count": 93,
   "metadata": {
    "scrolled": true
   },
   "outputs": [
    {
     "name": "stdout",
     "output_type": "stream",
     "text": [
      "\n",
      " ****** Running generation 1706 ****** \n",
      "\n",
      "Population's average fitness: 26.24938 stdev: 131.79894\n",
      "Best fitness: 84.48500 - size: (8, 3) - species 135 - id 49964\n",
      "Saving checkpoint to checkpoints/sin_exp-checkpoint-1706\n",
      "Average adjusted fitness: 0.946\n",
      "Mean genetic distance 2.842, standard deviation 0.748\n",
      "Population of 125 members in 7 species\n",
      "Total extinctions: 0\n",
      "Generation time: 0.359 sec\n",
      "\n",
      " ****** Running generation 1707 ****** \n",
      "\n",
      "Population's average fitness: 39.05488 stdev: 15.80697\n",
      "Best fitness: 84.48500 - size: (8, 3) - species 135 - id 49964\n",
      "Average adjusted fitness: 0.542\n",
      "Mean genetic distance 2.955, standard deviation 0.756\n",
      "Population of 125 members in 8 species\n",
      "Total extinctions: 0\n",
      "Generation time: 0.100 sec (0.230 average)\n",
      "\n",
      " ****** Running generation 1708 ****** \n",
      "\n",
      "Population's average fitness: 40.27396 stdev: 18.21308\n",
      "Best fitness: 84.48500 - size: (8, 3) - species 135 - id 49964\n",
      "Average adjusted fitness: 0.550\n",
      "Mean genetic distance 3.018, standard deviation 0.779\n",
      "Population of 123 members in 8 species\n",
      "Total extinctions: 0\n",
      "Generation time: 0.102 sec (0.187 average)\n",
      "\n",
      " ****** Running generation 1709 ****** \n",
      "\n",
      "Population's average fitness: 28.23519 stdev: 95.21972\n",
      "Best fitness: 84.48500 - size: (8, 3) - species 135 - id 49964\n",
      "Average adjusted fitness: 0.946\n",
      "Mean genetic distance 2.998, standard deviation 0.817\n",
      "Population of 123 members in 8 species\n",
      "Total extinctions: 0\n",
      "Generation time: 0.098 sec (0.165 average)\n",
      "\n",
      " ****** Running generation 1710 ****** \n",
      "\n",
      "Population's average fitness: 32.62126 stdev: 55.29500\n",
      "Best fitness: 84.48500 - size: (8, 3) - species 135 - id 49964\n",
      "Average adjusted fitness: 0.896\n",
      "Mean genetic distance 2.968, standard deviation 0.790\n",
      "Population of 123 members in 8 species\n",
      "Total extinctions: 0\n",
      "Generation time: 0.100 sec (0.152 average)\n",
      "\n",
      " ****** Running generation 1711 ****** \n",
      "\n",
      "Population's average fitness: 40.31753 stdev: 15.00196\n",
      "Best fitness: 84.48500 - size: (8, 3) - species 135 - id 49964\n",
      "Average adjusted fitness: 0.556\n",
      "Mean genetic distance 2.977, standard deviation 0.803\n",
      "Population of 123 members in 8 species\n",
      "Total extinctions: 0\n",
      "Generation time: 0.099 sec (0.143 average)\n",
      "\n",
      " ****** Running generation 1712 ****** \n",
      "\n",
      "Population's average fitness: 39.21377 stdev: 15.21391\n",
      "Best fitness: 84.48500 - size: (8, 3) - species 135 - id 49964\n",
      "Average adjusted fitness: 0.540\n",
      "Mean genetic distance 3.011, standard deviation 0.815\n",
      "Population of 123 members in 8 species\n",
      "Total extinctions: 0\n",
      "Generation time: 0.099 sec (0.137 average)\n",
      "\n",
      " ****** Running generation 1713 ****** \n",
      "\n",
      "Population's average fitness: 32.51231 stdev: 94.48622\n",
      "Best fitness: 84.48500 - size: (8, 3) - species 135 - id 49964\n",
      "Average adjusted fitness: 0.953\n",
      "Mean genetic distance 3.038, standard deviation 0.767\n",
      "Population of 127 members in 9 species\n",
      "Total extinctions: 0\n",
      "Generation time: 0.100 sec (0.132 average)\n",
      "\n",
      " ****** Running generation 1714 ****** \n",
      "\n",
      "Population's average fitness: 28.66784 stdev: 93.52626\n",
      "Best fitness: 84.48500 - size: (8, 3) - species 135 - id 49964\n",
      "Average adjusted fitness: 0.949\n",
      "Mean genetic distance 3.051, standard deviation 0.761\n",
      "Population of 124 members in 9 species\n",
      "Total extinctions: 0\n",
      "Generation time: 0.102 sec (0.129 average)\n",
      "\n",
      " ****** Running generation 1715 ****** \n",
      "\n",
      "Population's average fitness: 37.83426 stdev: 13.99744\n",
      "Best fitness: 84.48500 - size: (8, 3) - species 135 - id 49964\n",
      "Average adjusted fitness: 0.534\n",
      "Mean genetic distance 3.034, standard deviation 0.791\n",
      "Population of 122 members in 9 species\n",
      "Total extinctions: 0\n",
      "Generation time: 0.098 sec (0.126 average)\n",
      "\n",
      " ****** Running generation 1716 ****** \n",
      "\n",
      "Population's average fitness: 37.61762 stdev: 13.40433\n",
      "Best fitness: 84.48500 - size: (8, 3) - species 135 - id 49964\n",
      "Average adjusted fitness: 0.532\n",
      "Mean genetic distance 3.083, standard deviation 0.772\n",
      "Population of 125 members in 10 species\n",
      "Total extinctions: 0\n",
      "Generation time: 0.102 sec (0.100 average)\n",
      "\n",
      " ****** Running generation 1717 ****** \n",
      "\n",
      "Stopping the Jobs.  (<class 'KeyboardInterrupt'>, KeyboardInterrupt(), <traceback object at 0x7f474396d900>)\n",
      "pool ok\n"
     ]
    }
   ],
   "source": [
    "# Clean results of previous run if any or init the ouput directory\n",
    "config_path = os.path.join(local_dir, 'sin_config.ini')\n",
    "\n",
    "# Run the experiment __ To continue from a checkpoint use cp variable , eg cp=1024\n",
    "cp = 1706\n",
    "if cp is not None:\n",
    "    ret = run_experiment(config_path, checkpoint='checkpoints/sin_exp-checkpoint-{}'.format(cp), mp=True)\n",
    "else:\n",
    "    ret = run_experiment(config_path, mp=True)\n",
    "\n"
   ]
  },
  {
   "cell_type": "code",
   "execution_count": 94,
   "metadata": {},
   "outputs": [],
   "source": [
    "#if ret is None:\n",
    "p, config = ret\n"
   ]
  },
  {
   "cell_type": "code",
   "execution_count": 95,
   "metadata": {},
   "outputs": [
    {
     "name": "stdout",
     "output_type": "stream",
     "text": [
      "\n",
      "mean acc 84.49\n",
      "\n"
     ]
    }
   ],
   "source": [
    "evaluate_best(p,p.best_genome,config)"
   ]
  },
  {
   "cell_type": "code",
   "execution_count": 96,
   "metadata": {},
   "outputs": [
    {
     "name": "stdout",
     "output_type": "stream",
     "text": [
      "360\n",
      "\n",
      "mean acc 80.35\n",
      "\n"
     ]
    }
   ],
   "source": [
    "#use full angles.\n",
    "print(len(degrees2radians))\n",
    "\n",
    "xx = degrees2radians\n",
    "yy = np.sin(xx)\n",
    "evaluate_best(p,p.best_genome,config)"
   ]
  },
  {
   "cell_type": "code",
   "execution_count": 97,
   "metadata": {},
   "outputs": [
    {
     "name": "stdout",
     "output_type": "stream",
     "text": [
      "36000\n",
      "\n",
      "mean acc 80.35\n",
      "\n"
     ]
    }
   ],
   "source": [
    "# use 0.01 degrees per step \n",
    "\n",
    "degrees2radians_d = np.radians(np.arange(0,360,.01))\n",
    "print(len(degrees2radians_d))\n",
    "\n",
    "xx = degrees2radians_d\n",
    "yy = np.sin(xx)\n",
    "\n",
    "evaluate_best(p,p.best_genome,config)"
   ]
  },
  {
   "cell_type": "code",
   "execution_count": 98,
   "metadata": {},
   "outputs": [
    {
     "name": "stdout",
     "output_type": "stream",
     "text": [
      "Key: 49964\n",
      "Fitness: 84.485\n",
      "Nodes:\n",
      "\t0 DefaultNodeGene(key=0, bias=2.873454797549767, response=1.0, activation=clamped, aggregation=min)\n",
      "\t181 DefaultNodeGene(key=181, bias=-1.265262350609702, response=1.0, activation=sigmoid, aggregation=min)\n",
      "\t189 DefaultNodeGene(key=189, bias=-1.6633461404922858, response=1.0, activation=exp, aggregation=median)\n",
      "\t191 DefaultNodeGene(key=191, bias=0.3096749965055219, response=1.0, activation=sigmoid, aggregation=max)\n",
      "\t192 DefaultNodeGene(key=192, bias=-0.6152019593997494, response=1.0, activation=log, aggregation=median)\n",
      "\t2546 DefaultNodeGene(key=2546, bias=0.3542923205335387, response=1.0, activation=relu, aggregation=max)\n",
      "\t11759 DefaultNodeGene(key=11759, bias=1.4836615391774903, response=1.0, activation=clamped, aggregation=max)\n",
      "\t17645 DefaultNodeGene(key=17645, bias=0.288626101366512, response=1.0, activation=relu, aggregation=max)\n",
      "Connections:\n",
      "\tDefaultConnectionGene(key=(-1, 0), weight=-0.9152646306450868, enabled=True)\n",
      "\tDefaultConnectionGene(key=(192, 189), weight=1.3855058585228917, enabled=True)\n",
      "\tDefaultConnectionGene(key=(11759, 17645), weight=3.4233217194754424, enabled=True)\n"
     ]
    }
   ],
   "source": [
    "print(p.best_genome)"
   ]
  },
  {
   "cell_type": "code",
   "execution_count": null,
   "metadata": {},
   "outputs": [],
   "source": []
  }
 ],
 "metadata": {
  "kernelspec": {
   "display_name": "Python 3",
   "language": "python",
   "name": "python3"
  },
  "language_info": {
   "codemirror_mode": {
    "name": "ipython",
    "version": 3
   },
   "file_extension": ".py",
   "mimetype": "text/x-python",
   "name": "python",
   "nbconvert_exporter": "python",
   "pygments_lexer": "ipython3",
   "version": "3.8.2"
  }
 },
 "nbformat": 4,
 "nbformat_minor": 4
}
